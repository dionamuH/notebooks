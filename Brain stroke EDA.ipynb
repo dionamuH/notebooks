{
 "cells": [
  {
   "cell_type": "code",
   "execution_count": 2,
   "id": "67c037e2-9338-4fdb-97e7-4d9f89fcc8b0",
   "metadata": {},
   "outputs": [],
   "source": [
    "import pandas as pd\n",
    "import numpy as np\n",
    "from matplotlib import pyplot as plt\n",
    "import seaborn as sns\n",
    "from sklearn.preprocessing import StandardScaler\n",
    "from sklearn.preprocessing import LabelEncoder\n",
    "from sklearn.model_selection import train_test_split\n",
    "from sklearn.metrics import accuracy_score\n",
    "from sklearn import svm\n",
    "from sklearn.metrics import confusion_matrix #for confusion matrix\n",
    "import warnings\n",
    "warnings.filterwarnings('ignore')\n",
    "%matplotlib inline"
   ]
  },
  {
   "cell_type": "code",
   "execution_count": 41,
   "id": "eee8bf78-9cd7-4918-942e-1224698c1740",
   "metadata": {},
   "outputs": [],
   "source": [
    "df =pd.read_csv('brain_stroke.csv')"
   ]
  },
  {
   "cell_type": "code",
   "execution_count": 42,
   "id": "05774d3e-cab6-4b38-a63d-c9f6ae568330",
   "metadata": {},
   "outputs": [
    {
     "data": {
      "text/html": [
       "<div>\n",
       "<style scoped>\n",
       "    .dataframe tbody tr th:only-of-type {\n",
       "        vertical-align: middle;\n",
       "    }\n",
       "\n",
       "    .dataframe tbody tr th {\n",
       "        vertical-align: top;\n",
       "    }\n",
       "\n",
       "    .dataframe thead th {\n",
       "        text-align: right;\n",
       "    }\n",
       "</style>\n",
       "<table border=\"1\" class=\"dataframe\">\n",
       "  <thead>\n",
       "    <tr style=\"text-align: right;\">\n",
       "      <th></th>\n",
       "      <th>gender</th>\n",
       "      <th>age</th>\n",
       "      <th>hypertension</th>\n",
       "      <th>heart_disease</th>\n",
       "      <th>ever_married</th>\n",
       "      <th>work_type</th>\n",
       "      <th>Residence_type</th>\n",
       "      <th>avg_glucose_level</th>\n",
       "      <th>bmi</th>\n",
       "      <th>smoking_status</th>\n",
       "      <th>stroke</th>\n",
       "    </tr>\n",
       "  </thead>\n",
       "  <tbody>\n",
       "    <tr>\n",
       "      <th>0</th>\n",
       "      <td>Male</td>\n",
       "      <td>67.0</td>\n",
       "      <td>0</td>\n",
       "      <td>1</td>\n",
       "      <td>Yes</td>\n",
       "      <td>Private</td>\n",
       "      <td>Urban</td>\n",
       "      <td>228.69</td>\n",
       "      <td>36.6</td>\n",
       "      <td>formerly smoked</td>\n",
       "      <td>1</td>\n",
       "    </tr>\n",
       "    <tr>\n",
       "      <th>1</th>\n",
       "      <td>Male</td>\n",
       "      <td>80.0</td>\n",
       "      <td>0</td>\n",
       "      <td>1</td>\n",
       "      <td>Yes</td>\n",
       "      <td>Private</td>\n",
       "      <td>Rural</td>\n",
       "      <td>105.92</td>\n",
       "      <td>32.5</td>\n",
       "      <td>never smoked</td>\n",
       "      <td>1</td>\n",
       "    </tr>\n",
       "    <tr>\n",
       "      <th>2</th>\n",
       "      <td>Female</td>\n",
       "      <td>49.0</td>\n",
       "      <td>0</td>\n",
       "      <td>0</td>\n",
       "      <td>Yes</td>\n",
       "      <td>Private</td>\n",
       "      <td>Urban</td>\n",
       "      <td>171.23</td>\n",
       "      <td>34.4</td>\n",
       "      <td>smokes</td>\n",
       "      <td>1</td>\n",
       "    </tr>\n",
       "    <tr>\n",
       "      <th>3</th>\n",
       "      <td>Female</td>\n",
       "      <td>79.0</td>\n",
       "      <td>1</td>\n",
       "      <td>0</td>\n",
       "      <td>Yes</td>\n",
       "      <td>Self-employed</td>\n",
       "      <td>Rural</td>\n",
       "      <td>174.12</td>\n",
       "      <td>24.0</td>\n",
       "      <td>never smoked</td>\n",
       "      <td>1</td>\n",
       "    </tr>\n",
       "    <tr>\n",
       "      <th>4</th>\n",
       "      <td>Male</td>\n",
       "      <td>81.0</td>\n",
       "      <td>0</td>\n",
       "      <td>0</td>\n",
       "      <td>Yes</td>\n",
       "      <td>Private</td>\n",
       "      <td>Urban</td>\n",
       "      <td>186.21</td>\n",
       "      <td>29.0</td>\n",
       "      <td>formerly smoked</td>\n",
       "      <td>1</td>\n",
       "    </tr>\n",
       "  </tbody>\n",
       "</table>\n",
       "</div>"
      ],
      "text/plain": [
       "   gender   age  hypertension  heart_disease ever_married      work_type  \\\n",
       "0    Male  67.0             0              1          Yes        Private   \n",
       "1    Male  80.0             0              1          Yes        Private   \n",
       "2  Female  49.0             0              0          Yes        Private   \n",
       "3  Female  79.0             1              0          Yes  Self-employed   \n",
       "4    Male  81.0             0              0          Yes        Private   \n",
       "\n",
       "  Residence_type  avg_glucose_level   bmi   smoking_status  stroke  \n",
       "0          Urban             228.69  36.6  formerly smoked       1  \n",
       "1          Rural             105.92  32.5     never smoked       1  \n",
       "2          Urban             171.23  34.4           smokes       1  \n",
       "3          Rural             174.12  24.0     never smoked       1  \n",
       "4          Urban             186.21  29.0  formerly smoked       1  "
      ]
     },
     "execution_count": 42,
     "metadata": {},
     "output_type": "execute_result"
    }
   ],
   "source": [
    "df.head()"
   ]
  },
  {
   "cell_type": "code",
   "execution_count": 43,
   "id": "77b0bb7b-5107-4e9a-b25a-88cb213ecc95",
   "metadata": {},
   "outputs": [
    {
     "data": {
      "text/plain": [
       "children         673\n",
       "Private          132\n",
       "Self-employed     12\n",
       "Govt_job           6\n",
       "Name: work_type, dtype: int64"
      ]
     },
     "execution_count": 43,
     "metadata": {},
     "output_type": "execute_result"
    }
   ],
   "source": [
    "df.loc[df['age']<18, 'work_type'].value_counts()"
   ]
  },
  {
   "cell_type": "code",
   "execution_count": 44,
   "id": "edcdf774-f5d6-4758-a044-5739fd3bcf2d",
   "metadata": {},
   "outputs": [
    {
     "data": {
      "text/plain": [
       "Private          47\n",
       "Self-employed     3\n",
       "Govt_job          3\n",
       "Name: work_type, dtype: int64"
      ]
     },
     "execution_count": 44,
     "metadata": {},
     "output_type": "execute_result"
    }
   ],
   "source": [
    "df.loc[df['age']==17, 'work_type'].value_counts()"
   ]
  },
  {
   "cell_type": "code",
   "execution_count": 45,
   "id": "3f1532c0-1416-4b3f-8a53-5568f150828c",
   "metadata": {},
   "outputs": [
    {
     "data": {
      "text/plain": [
       "Private          35\n",
       "children         11\n",
       "Self-employed     1\n",
       "Govt_job          1\n",
       "Name: work_type, dtype: int64"
      ]
     },
     "execution_count": 45,
     "metadata": {},
     "output_type": "execute_result"
    }
   ],
   "source": [
    "df.loc[df['age']==16, 'work_type'].value_counts()"
   ]
  },
  {
   "cell_type": "code",
   "execution_count": 46,
   "id": "ab9c1efb-829f-450f-a79a-91858ff8fd39",
   "metadata": {},
   "outputs": [],
   "source": [
    "df.loc[df['age']<=16 , 'work_type']='children'"
   ]
  },
  {
   "cell_type": "code",
   "execution_count": 47,
   "id": "0cf50b93-57cc-4ce1-96be-82ca6e29efc5",
   "metadata": {},
   "outputs": [
    {
     "data": {
      "text/plain": [
       "children    48\n",
       "Name: work_type, dtype: int64"
      ]
     },
     "execution_count": 47,
     "metadata": {},
     "output_type": "execute_result"
    }
   ],
   "source": [
    "df.loc[df['age']==16, 'work_type'].value_counts()"
   ]
  },
  {
   "cell_type": "code",
   "execution_count": 48,
   "id": "6067a896-47b2-42d4-aaf3-8cae431fc387",
   "metadata": {},
   "outputs": [
    {
     "data": {
      "text/plain": [
       "0    4733\n",
       "1     248\n",
       "Name: stroke, dtype: int64"
      ]
     },
     "execution_count": 48,
     "metadata": {},
     "output_type": "execute_result"
    }
   ],
   "source": [
    "df.stroke.value_counts()"
   ]
  },
  {
   "cell_type": "markdown",
   "id": "af24bbe4-fffb-4465-b2d5-f2135369e967",
   "metadata": {},
   "source": [
    "##### The data is highy imbalaced.\n",
    "\n",
    "##### The number of those without stroke(4733) overwhelms when compared to those with stroke (248)."
   ]
  },
  {
   "cell_type": "markdown",
   "id": "7e65d190-f54b-4bd7-886e-765b2b4b3fdc",
   "metadata": {},
   "source": [
    "### Visualizing the data in its original form."
   ]
  },
  {
   "cell_type": "code",
   "execution_count": 49,
   "id": "cd749895-fe9c-4e6f-85ed-3513dcaa3993",
   "metadata": {},
   "outputs": [
    {
     "data": {
      "image/png": "[encoded data removed]",
      "text/plain": [
       "<Figure size 2160x1440 with 8 Axes>"
      ]
     },
     "metadata": {
      "needs_background": "light"
     },
     "output_type": "display_data"
    }
   ],
   "source": [
    "features = ['stroke','gender','ever_married','hypertension', 'heart_disease','work_type', 'Residence_type','smoking_status']\n",
    "plt.figure(figsize =(30,20))\n",
    "for i in enumerate(features):\n",
    "    plt.subplot(4,3,i[0]+1)\n",
    "    sns.countplot(i[1], data = df, palette = 'cividis')"
   ]
  },
  {
   "cell_type": "markdown",
   "id": "fb8fbaf4-8fd4-41ab-b7c1-e4411e8cc8a7",
   "metadata": {},
   "source": [
    "### Summary of visualization 1.\n",
    "1. The number of people without stroke and/or other disease is overwhelmingly higher than those who have had them. This indicates that the data is highly imbalanced and will affect the outcome of trained data used in the predictive models.\n",
    "\n",
    "2. A significant number of people in this dataset are  married, female and work in the private sector.\n",
    "\n",
    "\n",
    "3. The data also shows that most of the people fall in the 'never smoked' and 'unknown' category."
   ]
  },
  {
   "cell_type": "code",
   "execution_count": 50,
   "id": "b46ce07d-b796-4198-824d-37098dd77d75",
   "metadata": {},
   "outputs": [
    {
     "data": {
      "image/png": "[encoded data removed]",
      "text/plain": [
       "<Figure size 1440x720 with 2 Axes>"
      ]
     },
     "metadata": {
      "needs_background": "light"
     },
     "output_type": "display_data"
    }
   ],
   "source": [
    "plt.figure(figsize=(20,10))\n",
    "plt.subplot(1,2,1)\n",
    "sns.distplot(df.bmi, kde = False)\n",
    "\n",
    "plt.subplot(1,2,2)\n",
    "sns.distplot(df.avg_glucose_level, kde = False)\n",
    "plt.show()"
   ]
  },
  {
   "cell_type": "markdown",
   "id": "bfa037bc-c2ff-4168-b20d-32d67ef20ae1",
   "metadata": {},
   "source": [
    "### Summary of visualization 2."
   ]
  },
  {
   "cell_type": "markdown",
   "id": "a63af42b-4f29-4983-94ab-14430afd4084",
   "metadata": {},
   "source": [
    "BMI:  patients bmi peaks btween ranges 23 to 32 which indicates that a majority of patients are overweight.\n",
    "AGL(average glucose levels): Peaks at 70-90 "
   ]
  },
  {
   "cell_type": "markdown",
   "id": "3bc3ef62-6718-4156-a792-1a7b23ff3d54",
   "metadata": {},
   "source": [
    "### Confusuion Matrix Before Label Encoding"
   ]
  },
  {
   "cell_type": "code",
   "execution_count": 51,
   "id": "3b2d6a4a-ca2e-4039-b5a1-00084b46fd2a",
   "metadata": {},
   "outputs": [
    {
     "data": {
      "image/png": "[encoded data removed]",
      "text/plain": [
       "<Figure size 864x720 with 2 Axes>"
      ]
     },
     "metadata": {
      "needs_background": "light"
     },
     "output_type": "display_data"
    }
   ],
   "source": [
    "plt.figure(figsize=(12,10))\n",
    "sns.heatmap(new_df1.corr(), annot=True, fmt= \".2f\")\n",
    "plt.show()"
   ]
  },
  {
   "cell_type": "markdown",
   "id": "48f7d808-3dff-49d1-8732-feeb7ae73ec7",
   "metadata": {},
   "source": [
    "### Data Manipulation, Exploration & Visualization."
   ]
  },
  {
   "cell_type": "code",
   "execution_count": 52,
   "id": "5b810e19-340c-49d4-bcc9-aec9464757d9",
   "metadata": {},
   "outputs": [],
   "source": [
    "new_df=df\n",
    "new_df1 = df"
   ]
  },
  {
   "cell_type": "code",
   "execution_count": 53,
   "id": "994568e3-94ee-47b7-b435-d45859f54e59",
   "metadata": {},
   "outputs": [],
   "source": [
    "# Splitting the age into bins and in a new column.\n",
    "new_df['age_bins'] =pd.cut(new_df['age'],\n",
    "       bins=[0,10,20,30,40,50,60,70,80,90],\n",
    "       labels=['10',\n",
    "               '20', \n",
    "               '30', \n",
    "               '40','50','60','70','80', '90'])"
   ]
  },
  {
   "cell_type": "code",
   "execution_count": 54,
   "id": "6b150c55-5bd0-449a-8f55-c2f83d3aff37",
   "metadata": {},
   "outputs": [],
   "source": [
    "# Splitting bmi into bins and in a new column.\n",
    "new_df['weight_status']=pd.cut(new_df['bmi'],\n",
    "       bins=[0,18.5, 24.9, 30,200],\n",
    "       labels=['underweight', \n",
    "               'normal', \n",
    "               'overweight', \n",
    "               'obese'])"
   ]
  },
  {
   "cell_type": "code",
   "execution_count": 55,
   "id": "b61b7684-14d0-4f11-b174-4c2cf762c72d",
   "metadata": {},
   "outputs": [],
   "source": [
    "#categorizing those who have had stroke and 1 more disease, all three and singularly.\n",
    "def categorise(row):  \n",
    "    if row['hypertension']<1 and row['heart_disease'] < 1 and row['stroke'] < 1:\n",
    "        return 'low risk'\n",
    "    if row['hypertension']>0 and row['heart_disease'] >0 and row['stroke'] >0:\n",
    "        return 'HTN/HD/STRK'\n",
    "    elif row['hypertension'] >0 and row['stroke'] >0  and row['heart_disease'] < 1:\n",
    "        return 'STRK/HTN'\n",
    "    elif row['heart_disease'] >0 and row['stroke']>0 and row['hypertension'] < 1:\n",
    "        return 'HD/STRK'\n",
    "    elif row['heart_disease']>0 and row['hypertension']>0 and row['stroke'] < 1:\n",
    "        return 'HD/HTN'\n",
    "    elif row['stroke']>0 and row['hypertension']<1 and row['heart_disease'] < 1:\n",
    "        return 'STRK'\n",
    "    elif row['hypertension']>0 and row['heart_disease']<1 and row['stroke'] < 1:\n",
    "        return 'HTN'\n",
    "    elif row['heart_disease']>0 and row['hypertension']<1 and row['stroke'] < 1:\n",
    "        return 'HD'\n",
    "    return 'unknown'"
   ]
  },
  {
   "cell_type": "code",
   "execution_count": 56,
   "id": "f1c65da2-8658-40c0-88e0-80139605c398",
   "metadata": {},
   "outputs": [],
   "source": [
    "new_df['health_status'] = new_df.apply(lambda row: categorise(row), axis=1)"
   ]
  },
  {
   "cell_type": "code",
   "execution_count": 57,
   "id": "23609d82-be0a-4b21-b63a-394fd280d00f",
   "metadata": {},
   "outputs": [
    {
     "data": {
      "image/png": "[encoded data removed]",
      "text/plain": [
       "<Figure size 1800x1440 with 9 Axes>"
      ]
     },
     "metadata": {
      "needs_background": "light"
     },
     "output_type": "display_data"
    }
   ],
   "source": [
    "plt.figure(figsize=(25,20))\n",
    "plt.subplot(3,3,1)\n",
    "sns.countplot('gender', data = new_df.query('stroke>0'), palette='cividis')\n",
    "\n",
    "plt.subplot(3,3,2)\n",
    "sns.countplot('age_bins', data = new_df.query('stroke>0'),palette='cividis')\n",
    "\n",
    "plt.subplot(3,3,3)\n",
    "sns.countplot('ever_married', data = new_df.query('stroke>0'),palette='cividis')\n",
    "\n",
    "plt.subplot(3,3,4)\n",
    "sns.countplot('heart_disease', data = new_df.query('stroke>0'),palette='cividis')\n",
    "#plt.xticks(rotation = 45)\n",
    "\n",
    "plt.subplot(3,3,5)\n",
    "sns.countplot('hypertension', data = new_df.query('stroke>0'),palette='cividis')\n",
    "\n",
    "plt.subplot(3,3,6)\n",
    "sns.countplot('weight_status', data = new_df.query('stroke>0'),palette='cividis')\n",
    "\n",
    "plt.subplot(3,3,7)\n",
    "sns.countplot('health_status', data = new_df.query('stroke>0'), hue = 'weight_status',palette='cividis')\n",
    "\n",
    "plt.subplot(3,3,8)\n",
    "sns.countplot('work_type', data = new_df.query('stroke>0'),palette='cividis')\n",
    "\n",
    "plt.subplot(3,3,9)\n",
    "sns.countplot('smoking_status', data = new_df.query('stroke>0'), palette='cividis')\n",
    "\n",
    "\n",
    "plt.show()  "
   ]
  },
  {
   "cell_type": "markdown",
   "id": "e9f5601a-14be-4883-85d5-a2443cb409bf",
   "metadata": {},
   "source": [
    "## Further observations focusing on patients who have had stroke."
   ]
  },
  {
   "cell_type": "markdown",
   "id": "3be0705b-216a-41d4-b5ed-f7dc7aea1b6a",
   "metadata": {},
   "source": [
    "##### The above visiualizations gives insights into the data trends focusing solely on patients who have had stroke:\n",
    "\n",
    "- There are more females than males who have had stroke.\n",
    "\n",
    "- The age bracket peaks at the 80's range. The majority of them fall within 60 to 80 years.\n",
    "\n",
    "- Patients with stroke are mostly overweight and obese.\n",
    "\n",
    "- Most of the patients have never smoked. However, a large amount are listed as former smokers. \n",
    "\n",
    "- The number of people who have had hypertension are more than those who have had heart disease.\n",
    "\n",
    "##### The health status chart shows the following: \n",
    "\n",
    "- There are those who have had one or more comobordities.i.e stroke and one or more diseases.\n",
    "\n",
    "- Within each health bracket, the majority of patients are obese particularly within the heart disease/stroke bracket and especially those who have had all three (heart disease, hypertension and stroke). They are mostly private workers and self employed. An overwhelming amount of them are married."
   ]
  },
  {
   "cell_type": "markdown",
   "id": "47980bbd-a3b7-40d8-a5a0-b20983ba73a0",
   "metadata": {
    "tags": []
   },
   "source": [
    "### Label Encoding"
   ]
  },
  {
   "cell_type": "code",
   "execution_count": 58,
   "id": "f1d88275-92fd-46e5-8306-aab957a9aa85",
   "metadata": {},
   "outputs": [
    {
     "data": {
      "text/html": [
       "<div>\n",
       "<style scoped>\n",
       "    .dataframe tbody tr th:only-of-type {\n",
       "        vertical-align: middle;\n",
       "    }\n",
       "\n",
       "    .dataframe tbody tr th {\n",
       "        vertical-align: top;\n",
       "    }\n",
       "\n",
       "    .dataframe thead th {\n",
       "        text-align: right;\n",
       "    }\n",
       "</style>\n",
       "<table border=\"1\" class=\"dataframe\">\n",
       "  <thead>\n",
       "    <tr style=\"text-align: right;\">\n",
       "      <th></th>\n",
       "      <th>gender</th>\n",
       "      <th>age</th>\n",
       "      <th>hypertension</th>\n",
       "      <th>heart_disease</th>\n",
       "      <th>ever_married</th>\n",
       "      <th>work_type</th>\n",
       "      <th>Residence_type</th>\n",
       "      <th>avg_glucose_level</th>\n",
       "      <th>bmi</th>\n",
       "      <th>smoking_status</th>\n",
       "      <th>stroke</th>\n",
       "      <th>age_bins</th>\n",
       "      <th>weight_status</th>\n",
       "      <th>health_status</th>\n",
       "    </tr>\n",
       "  </thead>\n",
       "  <tbody>\n",
       "    <tr>\n",
       "      <th>0</th>\n",
       "      <td>1</td>\n",
       "      <td>67.0</td>\n",
       "      <td>0</td>\n",
       "      <td>1</td>\n",
       "      <td>1</td>\n",
       "      <td>1</td>\n",
       "      <td>1</td>\n",
       "      <td>228.69</td>\n",
       "      <td>36.6</td>\n",
       "      <td>1</td>\n",
       "      <td>1</td>\n",
       "      <td>70</td>\n",
       "      <td>obese</td>\n",
       "      <td>HD/STRK</td>\n",
       "    </tr>\n",
       "    <tr>\n",
       "      <th>1</th>\n",
       "      <td>1</td>\n",
       "      <td>80.0</td>\n",
       "      <td>0</td>\n",
       "      <td>1</td>\n",
       "      <td>1</td>\n",
       "      <td>1</td>\n",
       "      <td>0</td>\n",
       "      <td>105.92</td>\n",
       "      <td>32.5</td>\n",
       "      <td>2</td>\n",
       "      <td>1</td>\n",
       "      <td>80</td>\n",
       "      <td>obese</td>\n",
       "      <td>HD/STRK</td>\n",
       "    </tr>\n",
       "    <tr>\n",
       "      <th>2</th>\n",
       "      <td>0</td>\n",
       "      <td>49.0</td>\n",
       "      <td>0</td>\n",
       "      <td>0</td>\n",
       "      <td>1</td>\n",
       "      <td>1</td>\n",
       "      <td>1</td>\n",
       "      <td>171.23</td>\n",
       "      <td>34.4</td>\n",
       "      <td>3</td>\n",
       "      <td>1</td>\n",
       "      <td>50</td>\n",
       "      <td>obese</td>\n",
       "      <td>STRK</td>\n",
       "    </tr>\n",
       "    <tr>\n",
       "      <th>3</th>\n",
       "      <td>0</td>\n",
       "      <td>79.0</td>\n",
       "      <td>1</td>\n",
       "      <td>0</td>\n",
       "      <td>1</td>\n",
       "      <td>2</td>\n",
       "      <td>0</td>\n",
       "      <td>174.12</td>\n",
       "      <td>24.0</td>\n",
       "      <td>2</td>\n",
       "      <td>1</td>\n",
       "      <td>80</td>\n",
       "      <td>normal</td>\n",
       "      <td>STRK/HTN</td>\n",
       "    </tr>\n",
       "    <tr>\n",
       "      <th>4</th>\n",
       "      <td>1</td>\n",
       "      <td>81.0</td>\n",
       "      <td>0</td>\n",
       "      <td>0</td>\n",
       "      <td>1</td>\n",
       "      <td>1</td>\n",
       "      <td>1</td>\n",
       "      <td>186.21</td>\n",
       "      <td>29.0</td>\n",
       "      <td>1</td>\n",
       "      <td>1</td>\n",
       "      <td>90</td>\n",
       "      <td>overweight</td>\n",
       "      <td>STRK</td>\n",
       "    </tr>\n",
       "  </tbody>\n",
       "</table>\n",
       "</div>"
      ],
      "text/plain": [
       "   gender   age  hypertension  heart_disease  ever_married  work_type  \\\n",
       "0       1  67.0             0              1             1          1   \n",
       "1       1  80.0             0              1             1          1   \n",
       "2       0  49.0             0              0             1          1   \n",
       "3       0  79.0             1              0             1          2   \n",
       "4       1  81.0             0              0             1          1   \n",
       "\n",
       "   Residence_type  avg_glucose_level   bmi  smoking_status  stroke age_bins  \\\n",
       "0               1             228.69  36.6               1       1       70   \n",
       "1               0             105.92  32.5               2       1       80   \n",
       "2               1             171.23  34.4               3       1       50   \n",
       "3               0             174.12  24.0               2       1       80   \n",
       "4               1             186.21  29.0               1       1       90   \n",
       "\n",
       "  weight_status health_status  \n",
       "0         obese       HD/STRK  \n",
       "1         obese       HD/STRK  \n",
       "2         obese          STRK  \n",
       "3        normal      STRK/HTN  \n",
       "4    overweight          STRK  "
      ]
     },
     "execution_count": 58,
     "metadata": {},
     "output_type": "execute_result"
    }
   ],
   "source": [
    "enc = LabelEncoder()\n",
    "new_df.loc[:,['gender','ever_married','work_type','Residence_type','smoking_status']] = \\\n",
    "new_df.loc[:,['gender','ever_married','work_type','Residence_type','smoking_status']].apply(enc.fit_transform)\n",
    "new_df.head()"
   ]
  },
  {
   "cell_type": "code",
   "execution_count": 59,
   "id": "d21d74f4-d2bc-4a36-8d7b-780c992d757e",
   "metadata": {},
   "outputs": [
    {
     "data": {
      "text/html": [
       "<div>\n",
       "<style scoped>\n",
       "    .dataframe tbody tr th:only-of-type {\n",
       "        vertical-align: middle;\n",
       "    }\n",
       "\n",
       "    .dataframe tbody tr th {\n",
       "        vertical-align: top;\n",
       "    }\n",
       "\n",
       "    .dataframe thead th {\n",
       "        text-align: right;\n",
       "    }\n",
       "</style>\n",
       "<table border=\"1\" class=\"dataframe\">\n",
       "  <thead>\n",
       "    <tr style=\"text-align: right;\">\n",
       "      <th></th>\n",
       "      <th>gender</th>\n",
       "      <th>age</th>\n",
       "      <th>hypertension</th>\n",
       "      <th>heart_disease</th>\n",
       "      <th>ever_married</th>\n",
       "      <th>work_type</th>\n",
       "      <th>Residence_type</th>\n",
       "      <th>avg_glucose_level</th>\n",
       "      <th>bmi</th>\n",
       "      <th>smoking_status</th>\n",
       "      <th>stroke</th>\n",
       "    </tr>\n",
       "  </thead>\n",
       "  <tbody>\n",
       "    <tr>\n",
       "      <th>0</th>\n",
       "      <td>1</td>\n",
       "      <td>67.0</td>\n",
       "      <td>0</td>\n",
       "      <td>1</td>\n",
       "      <td>1</td>\n",
       "      <td>1</td>\n",
       "      <td>1</td>\n",
       "      <td>228.69</td>\n",
       "      <td>36.6</td>\n",
       "      <td>1</td>\n",
       "      <td>1</td>\n",
       "    </tr>\n",
       "    <tr>\n",
       "      <th>1</th>\n",
       "      <td>1</td>\n",
       "      <td>80.0</td>\n",
       "      <td>0</td>\n",
       "      <td>1</td>\n",
       "      <td>1</td>\n",
       "      <td>1</td>\n",
       "      <td>0</td>\n",
       "      <td>105.92</td>\n",
       "      <td>32.5</td>\n",
       "      <td>2</td>\n",
       "      <td>1</td>\n",
       "    </tr>\n",
       "    <tr>\n",
       "      <th>2</th>\n",
       "      <td>0</td>\n",
       "      <td>49.0</td>\n",
       "      <td>0</td>\n",
       "      <td>0</td>\n",
       "      <td>1</td>\n",
       "      <td>1</td>\n",
       "      <td>1</td>\n",
       "      <td>171.23</td>\n",
       "      <td>34.4</td>\n",
       "      <td>3</td>\n",
       "      <td>1</td>\n",
       "    </tr>\n",
       "    <tr>\n",
       "      <th>3</th>\n",
       "      <td>0</td>\n",
       "      <td>79.0</td>\n",
       "      <td>1</td>\n",
       "      <td>0</td>\n",
       "      <td>1</td>\n",
       "      <td>2</td>\n",
       "      <td>0</td>\n",
       "      <td>174.12</td>\n",
       "      <td>24.0</td>\n",
       "      <td>2</td>\n",
       "      <td>1</td>\n",
       "    </tr>\n",
       "    <tr>\n",
       "      <th>4</th>\n",
       "      <td>1</td>\n",
       "      <td>81.0</td>\n",
       "      <td>0</td>\n",
       "      <td>0</td>\n",
       "      <td>1</td>\n",
       "      <td>1</td>\n",
       "      <td>1</td>\n",
       "      <td>186.21</td>\n",
       "      <td>29.0</td>\n",
       "      <td>1</td>\n",
       "      <td>1</td>\n",
       "    </tr>\n",
       "  </tbody>\n",
       "</table>\n",
       "</div>"
      ],
      "text/plain": [
       "   gender   age  hypertension  heart_disease  ever_married  work_type  \\\n",
       "0       1  67.0             0              1             1          1   \n",
       "1       1  80.0             0              1             1          1   \n",
       "2       0  49.0             0              0             1          1   \n",
       "3       0  79.0             1              0             1          2   \n",
       "4       1  81.0             0              0             1          1   \n",
       "\n",
       "   Residence_type  avg_glucose_level   bmi  smoking_status  stroke  \n",
       "0               1             228.69  36.6               1       1  \n",
       "1               0             105.92  32.5               2       1  \n",
       "2               1             171.23  34.4               3       1  \n",
       "3               0             174.12  24.0               2       1  \n",
       "4               1             186.21  29.0               1       1  "
      ]
     },
     "execution_count": 59,
     "metadata": {},
     "output_type": "execute_result"
    }
   ],
   "source": [
    "new_df = new_df.drop(['age_bins', 'weight_status', 'health_status'], axis = 1)\n",
    "new_df.head()"
   ]
  },
  {
   "cell_type": "markdown",
   "id": "64659376-375c-44f7-98e9-7c60eee26ee9",
   "metadata": {},
   "source": [
    "### SMOTE-ENN (Balancing out the data)"
   ]
  },
  {
   "cell_type": "code",
   "execution_count": 60,
   "id": "e97cafe3-44e3-4db8-9524-bb2949cc5014",
   "metadata": {},
   "outputs": [],
   "source": [
    "from imblearn.combine import SMOTEENN\n",
    "sen = SMOTEENN(random_state = 2)"
   ]
  },
  {
   "cell_type": "code",
   "execution_count": 61,
   "id": "29f0ac8e-1761-4104-8e19-ba9eaa486651",
   "metadata": {},
   "outputs": [
    {
     "data": {
      "text/html": [
       "<div>\n",
       "<style scoped>\n",
       "    .dataframe tbody tr th:only-of-type {\n",
       "        vertical-align: middle;\n",
       "    }\n",
       "\n",
       "    .dataframe tbody tr th {\n",
       "        vertical-align: top;\n",
       "    }\n",
       "\n",
       "    .dataframe thead th {\n",
       "        text-align: right;\n",
       "    }\n",
       "</style>\n",
       "<table border=\"1\" class=\"dataframe\">\n",
       "  <thead>\n",
       "    <tr style=\"text-align: right;\">\n",
       "      <th></th>\n",
       "      <th>gender</th>\n",
       "      <th>age</th>\n",
       "      <th>hypertension</th>\n",
       "      <th>heart_disease</th>\n",
       "      <th>ever_married</th>\n",
       "      <th>work_type</th>\n",
       "      <th>Residence_type</th>\n",
       "      <th>avg_glucose_level</th>\n",
       "      <th>bmi</th>\n",
       "      <th>smoking_status</th>\n",
       "    </tr>\n",
       "  </thead>\n",
       "  <tbody>\n",
       "    <tr>\n",
       "      <th>0</th>\n",
       "      <td>1</td>\n",
       "      <td>67.0</td>\n",
       "      <td>0</td>\n",
       "      <td>1</td>\n",
       "      <td>1</td>\n",
       "      <td>1</td>\n",
       "      <td>1</td>\n",
       "      <td>228.69</td>\n",
       "      <td>36.6</td>\n",
       "      <td>1</td>\n",
       "    </tr>\n",
       "    <tr>\n",
       "      <th>1</th>\n",
       "      <td>1</td>\n",
       "      <td>80.0</td>\n",
       "      <td>0</td>\n",
       "      <td>1</td>\n",
       "      <td>1</td>\n",
       "      <td>1</td>\n",
       "      <td>0</td>\n",
       "      <td>105.92</td>\n",
       "      <td>32.5</td>\n",
       "      <td>2</td>\n",
       "    </tr>\n",
       "    <tr>\n",
       "      <th>2</th>\n",
       "      <td>0</td>\n",
       "      <td>49.0</td>\n",
       "      <td>0</td>\n",
       "      <td>0</td>\n",
       "      <td>1</td>\n",
       "      <td>1</td>\n",
       "      <td>1</td>\n",
       "      <td>171.23</td>\n",
       "      <td>34.4</td>\n",
       "      <td>3</td>\n",
       "    </tr>\n",
       "    <tr>\n",
       "      <th>3</th>\n",
       "      <td>0</td>\n",
       "      <td>79.0</td>\n",
       "      <td>1</td>\n",
       "      <td>0</td>\n",
       "      <td>1</td>\n",
       "      <td>2</td>\n",
       "      <td>0</td>\n",
       "      <td>174.12</td>\n",
       "      <td>24.0</td>\n",
       "      <td>2</td>\n",
       "    </tr>\n",
       "    <tr>\n",
       "      <th>4</th>\n",
       "      <td>1</td>\n",
       "      <td>81.0</td>\n",
       "      <td>0</td>\n",
       "      <td>0</td>\n",
       "      <td>1</td>\n",
       "      <td>1</td>\n",
       "      <td>1</td>\n",
       "      <td>186.21</td>\n",
       "      <td>29.0</td>\n",
       "      <td>1</td>\n",
       "    </tr>\n",
       "  </tbody>\n",
       "</table>\n",
       "</div>"
      ],
      "text/plain": [
       "   gender   age  hypertension  heart_disease  ever_married  work_type  \\\n",
       "0       1  67.0             0              1             1          1   \n",
       "1       1  80.0             0              1             1          1   \n",
       "2       0  49.0             0              0             1          1   \n",
       "3       0  79.0             1              0             1          2   \n",
       "4       1  81.0             0              0             1          1   \n",
       "\n",
       "   Residence_type  avg_glucose_level   bmi  smoking_status  \n",
       "0               1             228.69  36.6               1  \n",
       "1               0             105.92  32.5               2  \n",
       "2               1             171.23  34.4               3  \n",
       "3               0             174.12  24.0               2  \n",
       "4               1             186.21  29.0               1  "
      ]
     },
     "execution_count": 61,
     "metadata": {},
     "output_type": "execute_result"
    }
   ],
   "source": [
    "x_sen = new_df.drop('stroke', axis = 1)\n",
    "y_sen= new_df.stroke\n",
    "x_sen.head()"
   ]
  },
  {
   "cell_type": "code",
   "execution_count": 62,
   "id": "938dcafa-8969-47ec-8267-3bba16793f2a",
   "metadata": {},
   "outputs": [
    {
     "data": {
      "text/plain": [
       "((8021, 10), (8021,))"
      ]
     },
     "execution_count": 62,
     "metadata": {},
     "output_type": "execute_result"
    }
   ],
   "source": [
    "x_train_sen , y_train_sen = sen.fit_resample(x_sen, y_sen)\n",
    "x_train_sen.shape, y_train_sen.shape"
   ]
  },
  {
   "cell_type": "markdown",
   "id": "806e4c55-a6f3-4e30-b465-3ae9ce25ef71",
   "metadata": {},
   "source": [
    "### Scaling the data."
   ]
  },
  {
   "cell_type": "code",
   "execution_count": 63,
   "id": "48604f95-4765-4368-a5e8-af34f11b2389",
   "metadata": {},
   "outputs": [
    {
     "data": {
      "text/plain": [
       "array([[ 1.49474887, -2.23378339, -0.28943473, ..., -0.43509499,\n",
       "        -1.80390742, -1.2764539 ],\n",
       "       [-0.6690087 , -2.01581621, -0.28943473, ..., -0.14907959,\n",
       "        -1.86922826, -1.2764539 ],\n",
       "       [-0.6690087 ,  1.07931777, -0.28943473, ..., -0.76228065,\n",
       "         0.97222816, -1.2764539 ],\n",
       "       ...,\n",
       "       [-0.6690087 ,  1.06996911, -0.28943473, ..., -0.97107543,\n",
       "         2.30493231,  0.79547501],\n",
       "       [ 1.49474887,  0.27754847,  3.45501039, ..., -0.77487909,\n",
       "        -0.27879696,  0.79547501],\n",
       "       [ 1.49474887,  0.22313895, -0.28943473, ..., -0.14244249,\n",
       "         0.64101379, -0.24048944]])"
      ]
     },
     "execution_count": 63,
     "metadata": {},
     "output_type": "execute_result"
    }
   ],
   "source": [
    "scaler_sen = StandardScaler()\n",
    "scaler_sen.fit(x_train_sen)\n",
    "std_data = scaler_sen.transform(x_train_sen)\n",
    "x_train_sen = std_data\n",
    "x_train_sen"
   ]
  },
  {
   "cell_type": "markdown",
   "id": "72fc5102-62bf-4d06-ada3-4372f4777562",
   "metadata": {},
   "source": [
    "### Train_test_split Application (training the data)."
   ]
  },
  {
   "cell_type": "code",
   "execution_count": 64,
   "id": "e333f2ba-5e14-4fb4-ae71-9f91a03568d8",
   "metadata": {},
   "outputs": [],
   "source": [
    "x_train_sen , x_test, y_train_sen, y_test = train_test_split(x_train_sen, y_train_sen, test_size = 0.3, random_state = 42)"
   ]
  },
  {
   "cell_type": "code",
   "execution_count": 65,
   "id": "52571d6e-9c51-4de5-a963-b73cfb999848",
   "metadata": {},
   "outputs": [
    {
     "data": {
      "text/plain": [
       "((5614, 10), (2407, 10), (5614,), (2407,))"
      ]
     },
     "execution_count": 65,
     "metadata": {},
     "output_type": "execute_result"
    }
   ],
   "source": [
    "x_train_sen.shape, x_test.shape, y_train_sen.shape, y_test.shape"
   ]
  },
  {
   "cell_type": "code",
   "execution_count": 66,
   "id": "192322d7-d949-4b11-8a3d-41c2793f360a",
   "metadata": {},
   "outputs": [],
   "source": [
    "from sklearn.metrics import precision_score\n",
    "from sklearn.metrics import recall_score\n",
    "from sklearn.metrics import f1_score\n",
    "from sklearn.metrics import classification_report"
   ]
  },
  {
   "cell_type": "markdown",
   "id": "8ab66ce3-19ac-4a34-a51d-6dd976c89e44",
   "metadata": {},
   "source": [
    "### K_Nearest Neighbors algorithm."
   ]
  },
  {
   "cell_type": "code",
   "execution_count": 67,
   "id": "6463cac4-fd75-4096-a198-3c94ce52d686",
   "metadata": {},
   "outputs": [
    {
     "data": {
      "text/plain": [
       "0.9135853759867054"
      ]
     },
     "execution_count": 67,
     "metadata": {},
     "output_type": "execute_result"
    }
   ],
   "source": [
    "from sklearn.neighbors import KNeighborsClassifier\n",
    "model = KNeighborsClassifier()\n",
    "model.fit(x_train_sen, y_train_sen)\n",
    "y_predict = model.predict(x_test)\n",
    "acc = accuracy_score(y_test, y_predict)\n",
    "acc"
   ]
  },
  {
   "cell_type": "code",
   "execution_count": 70,
   "id": "e4f20cfa-8920-432e-954f-bbd2b2d10031",
   "metadata": {},
   "outputs": [
    {
     "name": "stdout",
     "output_type": "stream",
     "text": [
      "accuracy score : 0.9135853759867054\n",
      "precision score : 0.8824352694191743\n",
      "recall score : 0.9692544196771714\n",
      "f1 score : 0.9238095238095239\n",
      "              precision    recall  f1-score   support\n",
      "\n",
      "     class 1       0.96      0.85      0.90      1106\n",
      "     class 0       0.88      0.97      0.92      1301\n",
      "\n",
      "    accuracy                           0.91      2407\n",
      "   macro avg       0.92      0.91      0.91      2407\n",
      "weighted avg       0.92      0.91      0.91      2407\n",
      "\n"
     ]
    },
    {
     "data": {
      "text/plain": [
       "array([[ 938,  168],\n",
       "       [  40, 1261]], dtype=int64)"
      ]
     },
     "execution_count": 70,
     "metadata": {},
     "output_type": "execute_result"
    }
   ],
   "source": [
    "acc = accuracy_score(y_test, y_predict)\n",
    "prec = precision_score(y_test, y_predict)\n",
    "recall = recall_score(y_test, y_predict)\n",
    "f1 = f1_score(y_test, y_predict)\n",
    "\n",
    "print('accuracy score :', acc)\n",
    "print('precision score :', prec)\n",
    "print('recall score :', recall)\n",
    "print('f1 score :', f1)\n",
    "\n",
    "target_name =['class 1', 'class 0']\n",
    "print(classification_report(y_test, y_predict, target_names = target_name,))\n",
    "cf = confusion_matrix(y_test, y_predict)\n",
    "cf"
   ]
  },
  {
   "cell_type": "markdown",
   "id": "9ce35e6a-1d13-49c9-a309-8d42d5563935",
   "metadata": {},
   "source": [
    "### Creating a Predictive Model based on the KNN Algorithm."
   ]
  },
  {
   "cell_type": "code",
   "execution_count": 209,
   "id": "f174be4c-9442-4d6d-824b-09700c1be80a",
   "metadata": {},
   "outputs": [
    {
     "data": {
      "text/html": [
       "<div>\n",
       "<style scoped>\n",
       "    .dataframe tbody tr th:only-of-type {\n",
       "        vertical-align: middle;\n",
       "    }\n",
       "\n",
       "    .dataframe tbody tr th {\n",
       "        vertical-align: top;\n",
       "    }\n",
       "\n",
       "    .dataframe thead th {\n",
       "        text-align: right;\n",
       "    }\n",
       "</style>\n",
       "<table border=\"1\" class=\"dataframe\">\n",
       "  <thead>\n",
       "    <tr style=\"text-align: right;\">\n",
       "      <th></th>\n",
       "      <th>gender</th>\n",
       "      <th>age</th>\n",
       "      <th>hypertension</th>\n",
       "      <th>heart_disease</th>\n",
       "      <th>ever_married</th>\n",
       "      <th>work_type</th>\n",
       "      <th>Residence_type</th>\n",
       "      <th>avg_glucose_level</th>\n",
       "      <th>bmi</th>\n",
       "      <th>smoking_status</th>\n",
       "      <th>stroke</th>\n",
       "    </tr>\n",
       "  </thead>\n",
       "  <tbody>\n",
       "    <tr>\n",
       "      <th>0</th>\n",
       "      <td>0</td>\n",
       "      <td>36.0</td>\n",
       "      <td>0</td>\n",
       "      <td>0</td>\n",
       "      <td>1</td>\n",
       "      <td>1</td>\n",
       "      <td>0</td>\n",
       "      <td>71.32</td>\n",
       "      <td>43.9</td>\n",
       "      <td>3</td>\n",
       "      <td>0</td>\n",
       "    </tr>\n",
       "    <tr>\n",
       "      <th>1</th>\n",
       "      <td>1</td>\n",
       "      <td>49.0</td>\n",
       "      <td>0</td>\n",
       "      <td>0</td>\n",
       "      <td>1</td>\n",
       "      <td>1</td>\n",
       "      <td>1</td>\n",
       "      <td>87.06</td>\n",
       "      <td>28.3</td>\n",
       "      <td>2</td>\n",
       "      <td>0</td>\n",
       "    </tr>\n",
       "    <tr>\n",
       "      <th>2</th>\n",
       "      <td>0</td>\n",
       "      <td>55.0</td>\n",
       "      <td>0</td>\n",
       "      <td>0</td>\n",
       "      <td>1</td>\n",
       "      <td>1</td>\n",
       "      <td>1</td>\n",
       "      <td>57.30</td>\n",
       "      <td>41.5</td>\n",
       "      <td>2</td>\n",
       "      <td>0</td>\n",
       "    </tr>\n",
       "    <tr>\n",
       "      <th>3</th>\n",
       "      <td>0</td>\n",
       "      <td>59.0</td>\n",
       "      <td>1</td>\n",
       "      <td>0</td>\n",
       "      <td>1</td>\n",
       "      <td>1</td>\n",
       "      <td>0</td>\n",
       "      <td>92.04</td>\n",
       "      <td>24.2</td>\n",
       "      <td>2</td>\n",
       "      <td>0</td>\n",
       "    </tr>\n",
       "    <tr>\n",
       "      <th>4</th>\n",
       "      <td>0</td>\n",
       "      <td>70.0</td>\n",
       "      <td>0</td>\n",
       "      <td>1</td>\n",
       "      <td>1</td>\n",
       "      <td>1</td>\n",
       "      <td>0</td>\n",
       "      <td>239.07</td>\n",
       "      <td>26.1</td>\n",
       "      <td>2</td>\n",
       "      <td>1</td>\n",
       "    </tr>\n",
       "  </tbody>\n",
       "</table>\n",
       "</div>"
      ],
      "text/plain": [
       "   gender   age  hypertension  heart_disease  ever_married  work_type  \\\n",
       "0       0  36.0             0              0             1          1   \n",
       "1       1  49.0             0              0             1          1   \n",
       "2       0  55.0             0              0             1          1   \n",
       "3       0  59.0             1              0             1          1   \n",
       "4       0  70.0             0              1             1          1   \n",
       "\n",
       "   Residence_type  avg_glucose_level   bmi  smoking_status  stroke  \n",
       "0               0              71.32  43.9               3       0  \n",
       "1               1              87.06  28.3               2       0  \n",
       "2               1              57.30  41.5               2       0  \n",
       "3               0              92.04  24.2               2       0  \n",
       "4               0             239.07  26.1               2       1  "
      ]
     },
     "execution_count": 209,
     "metadata": {},
     "output_type": "execute_result"
    }
   ],
   "source": [
    "#new_df.sample(frac=1).reset_index(drop=True).head()"
   ]
  },
  {
   "cell_type": "markdown",
   "id": "39a0204a-375a-486d-b3e2-5d82a30778c3",
   "metadata": {},
   "source": [
    "##### I will be testing the predictive model to see if it is able to predict accurately those who have had stroke and those who have not.\n",
    "##### The data set (row 2) above shows one instance of a person who had stroke. This data as well as an instance of a person who has not had stroke,\n",
    "##### will be inputed in the model to see if it would predict correctly. \n",
    "##### Data inputed, excludes the stroke column."
   ]
  },
  {
   "cell_type": "markdown",
   "id": "903e82df-8bf1-47a8-b7fb-194a8b707f57",
   "metadata": {},
   "source": [
    "### Predictive model for K-Nearest Neighbors"
   ]
  },
  {
   "cell_type": "code",
   "execution_count": 254,
   "id": "926f3e72-348c-4a66-8505-fb87b9cc55c8",
   "metadata": {},
   "outputs": [
    {
     "name": "stdout",
     "output_type": "stream",
     "text": [
      "[[ 1.00305350e+00  6.99434281e+01  5.61167343e-03  9.87139929e-01\n",
      "   1.00854890e+00  9.91528461e-01 -7.48478438e-03  2.39964211e+02\n",
      "   2.59704324e+01  1.98405105e+00]]\n",
      "[1]\n",
      "Oh yeah. definitely had stroke\n"
     ]
    }
   ],
   "source": [
    "inputed_data = (1, 70.0, 0, 1, 1, 1, 0, 239.07, 26.1, 2)          #Data From row 4.\n",
    "data_as_np = np.asarray(inputed_data)\n",
    "inputed_reshaped = data_as_np.reshape(1,-1)\n",
    "\n",
    "std_data = scaler.transform(inputed_reshaped)\n",
    "print(std_data)\n",
    "prediction = model.predict(std_data)\n",
    "print(prediction)\n",
    "\n",
    "\n",
    "if (prediction[0] == 0):\n",
    "    print('Nope!!! This person has not had stroke')\n",
    "else:\n",
    "    print('Oh yeah. definitely had stroke')"
   ]
  },
  {
   "cell_type": "code",
   "execution_count": 255,
   "id": "75fbe043-c588-4260-bca1-3aae74585c20",
   "metadata": {},
   "outputs": [
    {
     "name": "stdout",
     "output_type": "stream",
     "text": [
      "[[ 1.00305350e+00  5.89551638e+01  1.01325346e+00 -4.34753173e-03\n",
      "   1.00854890e+00  9.91528461e-01 -7.48478438e-03  9.23902033e+01\n",
      "   2.40812005e+01  1.98405105e+00]]\n",
      "[0]\n",
      "Nope!!! This person has not had stroke\n"
     ]
    }
   ],
   "source": [
    "inputed_data = (1, 59.0, 1, 0, 1, 1, 0, 92.04, 24.2, 2)          #Data From row 3.\n",
    "data_as_np = np.asarray(inputed_data)\n",
    "inputed_reshaped = data_as_np.reshape(1,-1)\n",
    "\n",
    "std_data = scaler.transform(inputed_reshaped)\n",
    "print(std_data)\n",
    "prediction = classifier.predict(std_data)\n",
    "print(prediction)\n",
    "\n",
    "\n",
    "if (prediction[0] == 0):\n",
    "    print('Nope!!! This person has not had stroke')\n",
    "else:\n",
    "    print('Oh yeah. definitely had stroke')"
   ]
  },
  {
   "cell_type": "markdown",
   "id": "78740f6e-74bd-473e-9dba-a142b72e51a6",
   "metadata": {},
   "source": [
    "### Success!!! The model was trained successfully and has correctly predicted stroke and no stroke instances."
   ]
  }
 ],
 "metadata": {
  "kernelspec": {
   "display_name": "Python 3 (ipykernel)",
   "language": "python",
   "name": "python3"
  },
  "language_info": {
   "codemirror_mode": {
    "name": "ipython",
    "version": 3
   },
   "file_extension": ".py",
   "mimetype": "text/x-python",
   "name": "python",
   "nbconvert_exporter": "python",
   "pygments_lexer": "ipython3",
   "version": "3.10.13"
  },
  "vscode": {
   "interpreter": {
    "hash": "6470c2a313ee066ebb9036de852b776193be0927899b01296279b118b2273426"
   }
  }
 },
 "nbformat": 4,
 "nbformat_minor": 5
}
